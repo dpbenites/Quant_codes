{
 "cells": [
  {
   "cell_type": "markdown",
   "metadata": {},
   "source": [
    "## Resolvendo exercícios da lista de funcoes\n",
    "\n",
    "#### sugestões de resolução\n",
    "\n",
    "Exercícios de introdução:\n",
    "\n",
    "\n",
    "Intro1) Crie uma lista com 3 números e printe essa lista.\n",
    "\n",
    "\n",
    "Intro2) Printe cada número da lista separadamente usando for\n",
    "\n",
    "\n",
    "Intro3) Copie a lista inicial e some ambas, criando a seguinte lista: [1, 2, 3, 1, 2, 3]\n",
    "\n",
    "\n",
    "Intro4) Adicione a soma dos elementos da lista ao final da lista. Exemplo: [1, 2, 3] → [1, 2, 3, 6]\n",
    "Use o for para realizar a soma\n",
    "\n",
    "\n",
    "Intro5) Cheque quantos elementos da lista são maiores que 2. Exemplo: [1, 2, 4, 8] Resultado: 2"
   ]
  },
  {
   "cell_type": "markdown",
   "metadata": {},
   "source": []
  },
  {
   "cell_type": "code",
   "execution_count": 1,
   "metadata": {},
   "outputs": [
    {
     "name": "stdout",
     "output_type": "stream",
     "text": [
      "[1, 2, 3]\n"
     ]
    }
   ],
   "source": [
    "## intro 1)\n",
    "\n",
    "List1 = [1 , 2 , 3]\n",
    "print(List1)"
   ]
  },
  {
   "cell_type": "code",
   "execution_count": 2,
   "metadata": {},
   "outputs": [
    {
     "name": "stdout",
     "output_type": "stream",
     "text": [
      "[1, 2, 3]\n"
     ]
    }
   ],
   "source": [
    "## intro 2) \n",
    "\n",
    "'''Podemos usar list comprehension'''\n",
    "\n",
    "List2 = [x for x in range(1,4)]\n",
    "print(List2)"
   ]
  },
  {
   "cell_type": "code",
   "execution_count": 3,
   "metadata": {},
   "outputs": [
    {
     "name": "stdout",
     "output_type": "stream",
     "text": [
      "[1, 2, 3, 1, 2, 3]\n"
     ]
    }
   ],
   "source": [
    "## intro 3) \n",
    "\n",
    "List = List1 + List2\n",
    "\n",
    "print(List)"
   ]
  },
  {
   "cell_type": "code",
   "execution_count": 4,
   "metadata": {},
   "outputs": [
    {
     "data": {
      "text/plain": [
       "[1, 2, 3, 6]"
      ]
     },
     "execution_count": 4,
     "metadata": {},
     "output_type": "execute_result"
    }
   ],
   "source": [
    "### intro 4) \n",
    "\n",
    "''' Podemos fazer de varios jeitos, vou criar uma funcao que fará isso para qualquer lista'''\n",
    "\n",
    "def sum_append(List: list) -> list:\n",
    "    soma = sum(List)  #uso a funcao built-in para somar todos elementos\n",
    "    List.append(soma) # uso a funcao append para adicionar como ultimo elemento a soma de todos os elementos\n",
    "    return List\n",
    "\n",
    "# exemplo: \n",
    "\n",
    "Lista_exemplo = [1,2,3]\n",
    "sum_append(Lista_exemplo)"
   ]
  },
  {
   "cell_type": "code",
   "execution_count": 5,
   "metadata": {},
   "outputs": [
    {
     "data": {
      "text/plain": [
       "[1, 2, 3, 6]"
      ]
     },
     "execution_count": 5,
     "metadata": {},
     "output_type": "execute_result"
    }
   ],
   "source": [
    "## intro 4) usando for ao invés de sum\n",
    "\n",
    "def sum_append_2(List: list) -> list:\n",
    "    '''funcao que soma todos os elementos de uma lista e adiciona o valor da soma ao final da mesma\n",
    "    '''\n",
    "\n",
    "    soma = 0\n",
    "\n",
    "    for number in List:\n",
    "        soma += number\n",
    "    \n",
    "    List.append(soma)\n",
    "\n",
    "    return List\n",
    "\n",
    "## uso : \n",
    "\n",
    "sum_append_2([1,2,3])"
   ]
  },
  {
   "cell_type": "code",
   "execution_count": 6,
   "metadata": {},
   "outputs": [
    {
     "data": {
      "text/plain": [
       "6"
      ]
     },
     "execution_count": 6,
     "metadata": {},
     "output_type": "execute_result"
    }
   ],
   "source": [
    "## intro 5) \n",
    "\n",
    "def count_2(List: list) -> int:\n",
    "    '''Funcao que checa quantos elementos são maiores que 2'''\n",
    "    # crio uma variavel auxiliar que funcionara como contador\n",
    "\n",
    "    count = 0 \n",
    "\n",
    "    for element in List:\n",
    "\n",
    "        if element > 2:\n",
    "            count+=1\n",
    "        else:\n",
    "            pass\n",
    "    \n",
    "    return count\n",
    "\n",
    "\n",
    "Example_List = [1, 5 ,7 , 8 ,9 ,10 ,11 ,2 ,1 ,0 ]\n",
    "\n",
    "count_2(Example_List)\n"
   ]
  },
  {
   "cell_type": "markdown",
   "metadata": {},
   "source": [
    "## Exercícios de função:\n",
    "ex 1) Crie uma função que tenha como saída a seguinte lista:\n",
    "\n",
    "```python\n",
    "\n",
    "new_list = [1, 2, 3, 4, 5]\n",
    "\n",
    "```\n"
   ]
  },
  {
   "cell_type": "code",
   "execution_count": 8,
   "metadata": {},
   "outputs": [
    {
     "data": {
      "text/plain": [
       "[1, 2, 3, 4, 5]"
      ]
     },
     "execution_count": 8,
     "metadata": {},
     "output_type": "execute_result"
    }
   ],
   "source": [
    "## essa funcao  nao terá nenhum parametro como argumento\n",
    "\n",
    "def Create_new_list() -> list:\n",
    "    new_list = [x for x in range(1,6)] \n",
    "    return new_list\n",
    "\n",
    "new_list = Create_new_list()\n",
    "new_list\n"
   ]
  },
  {
   "cell_type": "markdown",
   "metadata": {},
   "source": [
    "ex 2) Utilizando a função do ex 1, crie um dicionário que associa a lista do ex 1 com a seguinte\n",
    "lista de números:\n",
    "\n",
    "```python\n",
    "\n",
    "new_numbers = [3, 8, 19, 20, 24]\n",
    "```\n",
    "\n",
    "A saída da função deve ser:\n",
    "\n",
    "```python\n",
    "dict_list_numbers = {1: 3, 2: 8, 3: 19, 4: 20, 5: 24}\n",
    "```"
   ]
  },
  {
   "cell_type": "code",
   "execution_count": 12,
   "metadata": {},
   "outputs": [
    {
     "name": "stdout",
     "output_type": "stream",
     "text": [
      "{1: 3, 2: 8, 3: 19, 4: 20, 5: 24}\n"
     ]
    }
   ],
   "source": [
    "## ex 2) \n",
    "\n",
    "'''Podemos associar duas listas utilizando o comando zip'''\n",
    "\n",
    "new_list    = Create_new_list()\n",
    "new_numbers = [3 , 8, 19, 20 , 24 ]\n",
    "\n",
    "# Usando zip() para combinar as duas listas em pares (nome, idade)\n",
    "pares             = zip(new_list, new_numbers)\n",
    "dict_list_numbers = dict(pares)\n",
    "\n",
    "print( dict_list_numbers )\n"
   ]
  },
  {
   "cell_type": "code",
   "execution_count": 16,
   "metadata": {},
   "outputs": [
    {
     "name": "stdout",
     "output_type": "stream",
     "text": [
      "{1: 3, 2: 8, 3: 19, 4: 20, 5: 24}\n"
     ]
    }
   ],
   "source": [
    "## ex 2) com dict comprehension\n",
    "\n",
    "# Usando dict comprehension para criar o dicionário\n",
    "\n",
    "\n",
    "dicionario = {key: value for key, value in zip(new_list, new_numbers)}\n",
    "\n",
    "# Exibindo o dicionário resultante\n",
    "print(dicionario)"
   ]
  },
  {
   "cell_type": "markdown",
   "metadata": {},
   "source": [
    "## Exercício 3\n",
    "\n",
    " Um fundo de investimento realiza análises anuais do número de operações feitas. Este\n",
    "número é relevante para se ter noção dos gastos mensais com corretagem.\n",
    "As seguintes quantidades de operações foram realizados nos 4 primeiros meses de 2023:\n",
    "\n",
    "- Jan: Derivativos: 2.000, Ações: 1.500\n",
    "\n",
    "- Fev: Derivativos: 1.800, Ações: 1.350\n",
    "\n",
    "\n",
    "- Mar: Derivativos: 900, Ações: 2.700\n",
    "\n",
    "- Abr: Derivativos: 1.000, Ações: 750\n",
    "\n",
    "\n",
    "- Corretagem de Derivativos: R$ 0,01\n",
    "\n",
    "\n",
    "- Corretagem de Ações: R$ 0.03\n",
    "\n",
    "\n",
    "A cobrança de um tipo de operação ocorre apenas após 1000 operações.\n",
    "\n",
    "\n",
    "Exemplo: Agosto: Derivativos: 700, Ações: 700. O custo deste mês será igual a 0.\n",
    "\n",
    "\n",
    "Exemplo: Outubro: Derivativos: 1500, Ações: 800. Serão cobradas apenas as operações com\n",
    "derivativos. O custo deste mês será igual a 15.\n",
    "\n",
    "\n",
    "Crie uma função que calcula o custo total das operações em cada mês e as retorna em um\n",
    "dicionário.\n",
    "\n",
    "\n",
    "Exemplo de saída:\n",
    "\n",
    "```\n",
    "{Janeiro: 100, Fevereiro: 120, etc}\n",
    "```"
   ]
  },
  {
   "cell_type": "code",
   "execution_count": 18,
   "metadata": {},
   "outputs": [
    {
     "data": {
      "text/html": [
       "<div>\n",
       "<style scoped>\n",
       "    .dataframe tbody tr th:only-of-type {\n",
       "        vertical-align: middle;\n",
       "    }\n",
       "\n",
       "    .dataframe tbody tr th {\n",
       "        vertical-align: top;\n",
       "    }\n",
       "\n",
       "    .dataframe thead th {\n",
       "        text-align: right;\n",
       "    }\n",
       "</style>\n",
       "<table border=\"1\" class=\"dataframe\">\n",
       "  <thead>\n",
       "    <tr style=\"text-align: right;\">\n",
       "      <th></th>\n",
       "      <th>Mês</th>\n",
       "      <th>Derivativos</th>\n",
       "      <th>Acoes</th>\n",
       "    </tr>\n",
       "  </thead>\n",
       "  <tbody>\n",
       "    <tr>\n",
       "      <th>0</th>\n",
       "      <td>Jan</td>\n",
       "      <td>2000</td>\n",
       "      <td>1500</td>\n",
       "    </tr>\n",
       "    <tr>\n",
       "      <th>1</th>\n",
       "      <td>Fev</td>\n",
       "      <td>1800</td>\n",
       "      <td>1350</td>\n",
       "    </tr>\n",
       "    <tr>\n",
       "      <th>2</th>\n",
       "      <td>Mar</td>\n",
       "      <td>900</td>\n",
       "      <td>2700</td>\n",
       "    </tr>\n",
       "    <tr>\n",
       "      <th>3</th>\n",
       "      <td>Abr</td>\n",
       "      <td>1000</td>\n",
       "      <td>750</td>\n",
       "    </tr>\n",
       "  </tbody>\n",
       "</table>\n",
       "</div>"
      ],
      "text/plain": [
       "   Mês  Derivativos  Acoes\n",
       "0  Jan         2000   1500\n",
       "1  Fev         1800   1350\n",
       "2  Mar          900   2700\n",
       "3  Abr         1000    750"
      ]
     },
     "execution_count": 18,
     "metadata": {},
     "output_type": "execute_result"
    }
   ],
   "source": [
    "## criando funcao para calcular o custo total das operações para cada mês\n",
    "\n",
    "'''vamos criar um dicionario que esteja contido no exemplo '''\n",
    "\n",
    "dict_op = { 'Mês': ['Jan', 'Fev', 'Mar', 'Abr'] , 'Derivativos': [2000, 1800 , 900 , 1000] ,\n",
    "            'Acoes': [1500, 1350, 2700, 750] }\n",
    "\n",
    "Corr_acao = 0.03 #corretagem da acao\n",
    "Corr_der  = 0.01 # corretagem do derivativo\n",
    "\n",
    "# antes de gerar a funcao, justifico essa organizacao do dicionario montando um data frame\n",
    "\n",
    "import pandas as pd\n",
    "\n",
    "# Criando um DataFrame do Pandas1000\t750\n",
    "df_op = pd.DataFrame(dict_op)\n",
    "\n",
    "# Exibindo o DataFrame\n",
    "df_op\n"
   ]
  },
  {
   "cell_type": "code",
   "execution_count": 19,
   "metadata": {},
   "outputs": [
    {
     "data": {
      "text/plain": [
       "[2000, 1800, 900, 1000]"
      ]
     },
     "execution_count": 19,
     "metadata": {},
     "output_type": "execute_result"
    }
   ],
   "source": [
    "dict_op['Derivativos']"
   ]
  },
  {
   "cell_type": "code",
   "execution_count": 29,
   "metadata": {},
   "outputs": [
    {
     "data": {
      "text/plain": [
       "{'Jan': 65.0, 'Fev': 58.5, 'Mar': 81.0, 'Abr': 0}"
      ]
     },
     "execution_count": 29,
     "metadata": {},
     "output_type": "execute_result"
    }
   ],
   "source": [
    "def Custo(Dict: dict) -> dict:\n",
    "\n",
    "    Corr_acao = 0.03 #corretagem da acao\n",
    "    Corr_der  = 0.01 # corretagem do derivativo\n",
    "\n",
    "    lista_derivativos = Dict['Derivativos']\n",
    "    lista_acoes       = Dict['Acoes']\n",
    "\n",
    "    custo_op = [] #lista com o custo de operacao\n",
    "\n",
    "    for qnt_derivativos, qnt_acoes in zip(lista_derivativos, lista_acoes):\n",
    "        custo_der  = 0\n",
    "        custo_acao = 0\n",
    "\n",
    "        if qnt_derivativos > 1000:\n",
    "            custo_der = Corr_der * qnt_derivativos\n",
    "        \n",
    "        if qnt_acoes > 1000: \n",
    "            custo_acao = Corr_acao * qnt_acoes\n",
    "\n",
    "        custo_op.append( custo_acao + custo_der)\n",
    "    \n",
    "    mes_list = list(Dict['Mês'])\n",
    "\n",
    "    new_dict = {key: value for key, value in zip(mes_list, custo_op)}\n",
    "\n",
    "    return new_dict\n",
    "\n",
    "## usando a funcao\n",
    "\n",
    "Custos_mes = Custo(dict_op)\n",
    "\n",
    "Custos_mes\n",
    "\n",
    "\n",
    "\n",
    "    "
   ]
  },
  {
   "cell_type": "code",
   "execution_count": 33,
   "metadata": {},
   "outputs": [
    {
     "data": {
      "text/html": [
       "<div>\n",
       "<style scoped>\n",
       "    .dataframe tbody tr th:only-of-type {\n",
       "        vertical-align: middle;\n",
       "    }\n",
       "\n",
       "    .dataframe tbody tr th {\n",
       "        vertical-align: top;\n",
       "    }\n",
       "\n",
       "    .dataframe thead th {\n",
       "        text-align: right;\n",
       "    }\n",
       "</style>\n",
       "<table border=\"1\" class=\"dataframe\">\n",
       "  <thead>\n",
       "    <tr style=\"text-align: right;\">\n",
       "      <th></th>\n",
       "      <th>Mês</th>\n",
       "      <th>Valor da Operação</th>\n",
       "    </tr>\n",
       "  </thead>\n",
       "  <tbody>\n",
       "    <tr>\n",
       "      <th>0</th>\n",
       "      <td>Jan</td>\n",
       "      <td>65.0</td>\n",
       "    </tr>\n",
       "    <tr>\n",
       "      <th>1</th>\n",
       "      <td>Fev</td>\n",
       "      <td>58.5</td>\n",
       "    </tr>\n",
       "    <tr>\n",
       "      <th>2</th>\n",
       "      <td>Mar</td>\n",
       "      <td>81.0</td>\n",
       "    </tr>\n",
       "    <tr>\n",
       "      <th>3</th>\n",
       "      <td>Abr</td>\n",
       "      <td>0.0</td>\n",
       "    </tr>\n",
       "  </tbody>\n",
       "</table>\n",
       "</div>"
      ],
      "text/plain": [
       "   Mês  Valor da Operação\n",
       "0  Jan               65.0\n",
       "1  Fev               58.5\n",
       "2  Mar               81.0\n",
       "3  Abr                0.0"
      ]
     },
     "execution_count": 33,
     "metadata": {},
     "output_type": "execute_result"
    }
   ],
   "source": [
    "## convertendo o dicionario para um data_frame\n",
    "\n",
    "df = pd.DataFrame(list(Custos_mes.items()), columns=['Mês', 'Valor da Operação'])\n",
    "\n",
    "# Exibir o DataFrame\n",
    "df"
   ]
  }
 ],
 "metadata": {
  "kernelspec": {
   "display_name": "base",
   "language": "python",
   "name": "python3"
  },
  "language_info": {
   "codemirror_mode": {
    "name": "ipython",
    "version": 3
   },
   "file_extension": ".py",
   "mimetype": "text/x-python",
   "name": "python",
   "nbconvert_exporter": "python",
   "pygments_lexer": "ipython3",
   "version": "3.11.5"
  }
 },
 "nbformat": 4,
 "nbformat_minor": 2
}
