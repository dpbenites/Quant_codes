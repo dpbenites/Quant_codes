{
 "cells": [
  {
   "cell_type": "markdown",
   "metadata": {},
   "source": [
    "# Encontro 01\n",
    "\n",
    "## Bem vindos \n",
    "\n",
    "### Vamos dar uma olhada, nesta aula, noções básicas de python. Sintaxe, variáveis, objetos...\n",
    "\n",
    "## 1.1 Operações matemáticas\n"
   ]
  },
  {
   "cell_type": "code",
   "execution_count": 92,
   "metadata": {},
   "outputs": [
    {
     "data": {
      "text/plain": [
       "3"
      ]
     },
     "execution_count": 92,
     "metadata": {},
     "output_type": "execute_result"
    }
   ],
   "source": [
    "### code\n",
    "## adicao\n",
    "1 + 2"
   ]
  },
  {
   "cell_type": "code",
   "execution_count": 93,
   "metadata": {},
   "outputs": [
    {
     "data": {
      "text/plain": [
       "20"
      ]
     },
     "execution_count": 93,
     "metadata": {},
     "output_type": "execute_result"
    }
   ],
   "source": [
    "## subtracao\n",
    "21 -1 "
   ]
  },
  {
   "cell_type": "code",
   "execution_count": 94,
   "metadata": {},
   "outputs": [
    {
     "data": {
      "text/plain": [
       "24"
      ]
     },
     "execution_count": 94,
     "metadata": {},
     "output_type": "execute_result"
    }
   ],
   "source": [
    "## multiplacao\n",
    "\n",
    "4 * 6\n"
   ]
  },
  {
   "cell_type": "code",
   "execution_count": 95,
   "metadata": {},
   "outputs": [
    {
     "data": {
      "text/plain": [
       "4.0"
      ]
     },
     "execution_count": 95,
     "metadata": {},
     "output_type": "execute_result"
    }
   ],
   "source": [
    "## divisao\n",
    "\n",
    "24/6"
   ]
  },
  {
   "cell_type": "code",
   "execution_count": 96,
   "metadata": {},
   "outputs": [
    {
     "data": {
      "text/plain": [
       "8"
      ]
     },
     "execution_count": 96,
     "metadata": {},
     "output_type": "execute_result"
    }
   ],
   "source": [
    "## exponencial\n",
    "\n",
    "2 ** 3"
   ]
  },
  {
   "cell_type": "code",
   "execution_count": 97,
   "metadata": {},
   "outputs": [
    {
     "data": {
      "text/plain": [
       "100000.0"
      ]
     },
     "execution_count": 97,
     "metadata": {},
     "output_type": "execute_result"
    }
   ],
   "source": [
    "## notacao : 10^5\n",
    "1e5"
   ]
  },
  {
   "cell_type": "code",
   "execution_count": 98,
   "metadata": {},
   "outputs": [
    {
     "data": {
      "text/plain": [
       "2"
      ]
     },
     "execution_count": 98,
     "metadata": {},
     "output_type": "execute_result"
    }
   ],
   "source": [
    "## divisao inteira \n",
    "\n",
    "9//4"
   ]
  },
  {
   "cell_type": "code",
   "execution_count": 99,
   "metadata": {},
   "outputs": [
    {
     "data": {
      "text/plain": [
       "1"
      ]
     },
     "execution_count": 99,
     "metadata": {},
     "output_type": "execute_result"
    }
   ],
   "source": [
    "## resto de divisao\n",
    "\n",
    "9%4"
   ]
  },
  {
   "cell_type": "markdown",
   "metadata": {},
   "source": [
    "## 1.2 Atribuição de variáveis\n",
    "Em qualquer linguagem de programação, nós podemos criar objetos e variáveis que contenha e represente uma informação.\n",
    "Os objetos podem ser de vários tipos, portanto, tendo propriedades diferentes e representando coisas distintas.\n",
    "\n",
    "DEf: Objetos são dados que o seu programa python manipula para realizar as tarefas necessárias para atingir o seu objetivo\n",
    "\n",
    "DEf: Ao criar um objeto de qualquer tipo, é preciso guardá-lo em algum lugar na memória (RAM) do computador, para que o código consiga acessá-lo sempre que necessário. A esse processo dá-se o nome de atribuição de um dado a uma variável. Por exemplo,\n",
    "\n",
    "\n"
   ]
  },
  {
   "cell_type": "code",
   "execution_count": 100,
   "metadata": {},
   "outputs": [
    {
     "name": "stdout",
     "output_type": "stream",
     "text": [
      "2.5\n"
     ]
    }
   ],
   "source": [
    "## code\n",
    "\n",
    "danilo = 5/2\n",
    "print(danilo)\n"
   ]
  },
  {
   "cell_type": "code",
   "execution_count": 101,
   "metadata": {},
   "outputs": [
    {
     "name": "stdout",
     "output_type": "stream",
     "text": [
      "31\n"
     ]
    }
   ],
   "source": [
    "## atribuicao com expressoes\n",
    "\n",
    "a = 5\n",
    "b = 7\n",
    "\n",
    "comb = 2*a + 3*b\n",
    "\n",
    "print(comb)"
   ]
  },
  {
   "cell_type": "code",
   "execution_count": 102,
   "metadata": {},
   "outputs": [
    {
     "name": "stdout",
     "output_type": "stream",
     "text": [
      "20\n"
     ]
    }
   ],
   "source": [
    "## operacoes com atualizacao de valor\n",
    "\n",
    "valor_inicial = 15\n",
    "valor_inicial += 5 ## equivale valor_inicial = valor_inicial + 5\n",
    "print(valor_inicial)"
   ]
  },
  {
   "cell_type": "code",
   "execution_count": 103,
   "metadata": {},
   "outputs": [
    {
     "name": "stdout",
     "output_type": "stream",
     "text": [
      "24.0\n",
      "<class 'float'>\n"
     ]
    }
   ],
   "source": [
    "variavel = 6*4\n",
    "\n",
    "variavel = float(variavel)\n",
    "\n",
    "print(variavel)\n",
    "print(type(variavel))"
   ]
  },
  {
   "cell_type": "markdown",
   "metadata": {},
   "source": [
    "## 1.3 Strings, indexação e fatiamento\n",
    "\n",
    "Strings em Python são sequências de caracteres e são representadas por objetos do tipo str. Elas podem ser definidas usando aspas simples ou duplas. Aqui estão alguns exemplos básicos de strings:"
   ]
  },
  {
   "cell_type": "code",
   "execution_count": 104,
   "metadata": {},
   "outputs": [
    {
     "name": "stdout",
     "output_type": "stream",
     "text": [
      "Hello World\n"
     ]
    }
   ],
   "source": [
    "## code\n",
    "\n",
    "mensagem = \"Hello World\"\n",
    "\n",
    "print(mensagem)"
   ]
  },
  {
   "cell_type": "markdown",
   "metadata": {},
   "source": [
    "## Fatiamento"
   ]
  },
  {
   "cell_type": "code",
   "execution_count": 105,
   "metadata": {},
   "outputs": [
    {
     "name": "stdout",
     "output_type": "stream",
     "text": [
      "Python\n"
     ]
    }
   ],
   "source": [
    "## fatiamento de strings\n",
    "        #0123456...  \n",
    "texto = \"Python é uma linguagem de programação\"\n",
    "\n",
    "substring1 = texto[0:6]\n",
    "print(substring1)\n"
   ]
  },
  {
   "cell_type": "markdown",
   "metadata": {},
   "source": [
    "## Alguns métodos\n",
    "\n",
    "`.upper()` , `.lower()` , `.split()` "
   ]
  },
  {
   "cell_type": "code",
   "execution_count": 106,
   "metadata": {},
   "outputs": [
    {
     "name": "stdout",
     "output_type": "stream",
     "text": [
      "OLA MUNDO\n",
      "ola mundo\n"
     ]
    }
   ],
   "source": [
    "## code\n",
    "mensagem = 'Ola mundo'\n",
    "mensagem = mensagem.upper()\n",
    "print(mensagem)\n",
    "\n",
    "\n",
    "mensagem2 = mensagem.lower()\n",
    "print(mensagem2)\n"
   ]
  },
  {
   "cell_type": "code",
   "execution_count": 107,
   "metadata": {},
   "outputs": [
    {
     "name": "stdout",
     "output_type": "stream",
     "text": [
      "['Ele', 'é', 'inteligente']\n"
     ]
    }
   ],
   "source": [
    "frase = 'Ele é inteligente'\n",
    "palavras = frase.split()\n",
    "print(palavras)"
   ]
  },
  {
   "cell_type": "markdown",
   "metadata": {},
   "source": [
    "## 1.4 Listas \n",
    "\n",
    "Em Python, listas são coleções ordenadas e mutáveis de itens. Elas são representadas por colchetes [] e podem conter elementos de diferentes tipos. Vamos abordar diferentes aspectos das listas, incluindo fatiamento, list comprehension e alguns métodos úteis."
   ]
  },
  {
   "cell_type": "code",
   "execution_count": 108,
   "metadata": {},
   "outputs": [
    {
     "name": "stdout",
     "output_type": "stream",
     "text": [
      "4\n"
     ]
    }
   ],
   "source": [
    "## index        #0   1   2   3   4 \n",
    "lista_numeros = [1, 4 , 6 , 8 , 9]\n",
    "\n",
    "# acesso os elementos por indexacao\n",
    "\n",
    "segundo_elemento = lista_numeros[1]\n",
    "print(segundo_elemento)\n"
   ]
  },
  {
   "cell_type": "code",
   "execution_count": 109,
   "metadata": {},
   "outputs": [
    {
     "name": "stdout",
     "output_type": "stream",
     "text": [
      "[1, 10, 6, 8, 9]\n"
     ]
    }
   ],
   "source": [
    "lista_numeros[1] = 10\n",
    "print(lista_numeros)"
   ]
  },
  {
   "cell_type": "code",
   "execution_count": 110,
   "metadata": {},
   "outputs": [
    {
     "name": "stdout",
     "output_type": "stream",
     "text": [
      "[1, 10, 6]\n"
     ]
    }
   ],
   "source": [
    "## Fatiamento de listas\n",
    "\n",
    "sublista = lista_numeros[0:3]\n",
    "print(sublista)"
   ]
  },
  {
   "cell_type": "markdown",
   "metadata": {},
   "source": [
    "## list comprehension é uma maneira mais curta e prática de criar listas\n"
   ]
  },
  {
   "cell_type": "code",
   "execution_count": 111,
   "metadata": {},
   "outputs": [
    {
     "name": "stdout",
     "output_type": "stream",
     "text": [
      "[1, 4, 9, 16, 25]\n"
     ]
    }
   ],
   "source": [
    "#code\n",
    "\n",
    "quadrados = [x**2 for x in range(1,6)]\n",
    "print(quadrados)"
   ]
  },
  {
   "cell_type": "markdown",
   "metadata": {},
   "source": [
    "## Métodos\n"
   ]
  },
  {
   "cell_type": "code",
   "execution_count": 112,
   "metadata": {},
   "outputs": [
    {
     "name": "stdout",
     "output_type": "stream",
     "text": [
      "['Galo', 'Cachorro', 'Vaca', 'Peixe']\n"
     ]
    }
   ],
   "source": [
    "## code\n",
    "\n",
    "'''\n",
    "metodo append()  -->  permite com que se adicione elementos numa lista existente\n",
    "'''\n",
    "\n",
    "animais = ['Galo', 'Cachorro', 'Vaca']\n",
    "animais.append('Peixe')\n",
    "print(animais)"
   ]
  },
  {
   "cell_type": "markdown",
   "metadata": {},
   "source": [
    "## 1.4 Dicionários\n",
    "\n",
    "Em Python, um dicionário é uma estrutura de dados que permite armazenar pares de chave-valor, onde cada chave é única. Essa estrutura é conhecida como um mapa, associando valores a chaves para facilitar a recuperação eficiente dos dados. \n",
    "\n",
    "Os dicionários são extremamente úteis quando se trabalha com dados que têm uma relação chave-valor. Eles oferecem uma maneira eficiente de recuperar e manipular informações. \n",
    "\n",
    "Dicionários são representados por chaves {} e têm a seguinte sintaxe:"
   ]
  },
  {
   "cell_type": "code",
   "execution_count": 113,
   "metadata": {},
   "outputs": [],
   "source": [
    "# code\n",
    "## Chave é unica\n",
    "valor=1\n",
    "meu_dicionario= {'chave':valor}\n",
    "\n",
    "meu_dicionario = {'nome':'Joao', 'Idade':25, 'cidade': 'Sao Paulo'}\n"
   ]
  },
  {
   "cell_type": "code",
   "execution_count": 114,
   "metadata": {},
   "outputs": [
    {
     "name": "stdout",
     "output_type": "stream",
     "text": [
      "Joao\n"
     ]
    }
   ],
   "source": [
    "## Acessar os valores do dicionario\n",
    "\n",
    "nome = meu_dicionario['nome']\n",
    "print(nome)\n",
    "\n",
    "\n"
   ]
  },
  {
   "cell_type": "code",
   "execution_count": 115,
   "metadata": {},
   "outputs": [
    {
     "data": {
      "text/html": [
       "<div>\n",
       "<style scoped>\n",
       "    .dataframe tbody tr th:only-of-type {\n",
       "        vertical-align: middle;\n",
       "    }\n",
       "\n",
       "    .dataframe tbody tr th {\n",
       "        vertical-align: top;\n",
       "    }\n",
       "\n",
       "    .dataframe thead th {\n",
       "        text-align: right;\n",
       "    }\n",
       "</style>\n",
       "<table border=\"1\" class=\"dataframe\">\n",
       "  <thead>\n",
       "    <tr style=\"text-align: right;\">\n",
       "      <th></th>\n",
       "      <th>Acoes</th>\n",
       "      <th>Proporcao</th>\n",
       "      <th>Risco</th>\n",
       "    </tr>\n",
       "  </thead>\n",
       "  <tbody>\n",
       "    <tr>\n",
       "      <th>0</th>\n",
       "      <td>A</td>\n",
       "      <td>0.4</td>\n",
       "      <td>0.01</td>\n",
       "    </tr>\n",
       "    <tr>\n",
       "      <th>1</th>\n",
       "      <td>B</td>\n",
       "      <td>0.6</td>\n",
       "      <td>0.05</td>\n",
       "    </tr>\n",
       "  </tbody>\n",
       "</table>\n",
       "</div>"
      ],
      "text/plain": [
       "  Acoes  Proporcao  Risco\n",
       "0     A        0.4   0.01\n",
       "1     B        0.6   0.05"
      ]
     },
     "execution_count": 115,
     "metadata": {},
     "output_type": "execute_result"
    }
   ],
   "source": [
    "## Carteira de acoes\n",
    "\n",
    "carteira = {'Acoes': ['A','B'] , 'Proporcao': [0.4, 0.6], 'Risco': [0.01,0.05] }\n",
    "\n",
    "import pandas as pd\n",
    "\n",
    "df_carteira = pd.DataFrame(carteira)\n",
    "\n",
    "## exibir a tabela\n",
    "\n",
    "df_carteira"
   ]
  },
  {
   "cell_type": "markdown",
   "metadata": {},
   "source": [
    "### Acessando Valores em um Dicionário:\n",
    "Os valores em um dicionário são acessados usando as chaves correspondentes:"
   ]
  },
  {
   "cell_type": "code",
   "execution_count": 116,
   "metadata": {},
   "outputs": [],
   "source": [
    "#code"
   ]
  },
  {
   "cell_type": "markdown",
   "metadata": {},
   "source": [
    "## 1.5 Tuplas \n",
    "\n",
    "Em Python, uma tupla é uma estrutura de dados semelhante a uma lista, mas com a principal diferença sendo que as tuplas são imutáveis. Isso significa que, uma vez que uma tupla é criada, você não pode modificar seu conteúdo - adicionar, remover ou alterar elementos. As tuplas são representadas por parênteses ()."
   ]
  },
  {
   "cell_type": "code",
   "execution_count": 117,
   "metadata": {},
   "outputs": [],
   "source": [
    "#code\n",
    "\n",
    "tuplas = (1, 4 , 5 , 'STring', 6, 5.0)\n"
   ]
  },
  {
   "cell_type": "code",
   "execution_count": 118,
   "metadata": {},
   "outputs": [
    {
     "data": {
      "text/plain": [
       "(1, 3, 6, 1, 5, 7)"
      ]
     },
     "execution_count": 118,
     "metadata": {},
     "output_type": "execute_result"
    }
   ],
   "source": [
    "t1 = (1, 3 , 6)\n",
    "t2 = (1, 5 , 7)\n",
    "\n",
    "t3 = t1 + t2\n",
    "\n",
    "t3"
   ]
  },
  {
   "cell_type": "markdown",
   "metadata": {},
   "source": [
    "### Desmembramento de Tuplas (Tupla Unpacking):\n",
    "O desmembramento de tuplas, também conhecido como tupla unpacking, permite atribuir os elementos de uma tupla a variáveis individuais. Isso é útil quando você deseja acessar elementos específicos de uma tupla."
   ]
  },
  {
   "cell_type": "code",
   "execution_count": 119,
   "metadata": {},
   "outputs": [
    {
     "name": "stdout",
     "output_type": "stream",
     "text": [
      "4\n"
     ]
    }
   ],
   "source": [
    "## code\n",
    "\n",
    "a , b , c , d = (1, 2 , 3 ,4)\n",
    "\n",
    "print(d)"
   ]
  },
  {
   "cell_type": "markdown",
   "metadata": {},
   "source": [
    "## 1.6 Sets - Conjuntos\n",
    "\n",
    "Em Python, um conjunto (`set`) é uma coleção não ordenada de elementos únicos. Os conjuntos são representados por chaves {} e são úteis quando a ordem dos elementos não importa e a exclusividade dos elementos é importante. Aqui estão algumas operações e manipulações comuns em conjuntos:"
   ]
  },
  {
   "cell_type": "code",
   "execution_count": 120,
   "metadata": {},
   "outputs": [
    {
     "data": {
      "text/plain": [
       "{1, 2, 3, 4, 6, 10, 11}"
      ]
     },
     "execution_count": 120,
     "metadata": {},
     "output_type": "execute_result"
    }
   ],
   "source": [
    "## code\n",
    "\n",
    "##conjunto / set\n",
    "\n",
    "meu_conjunto = { 1, 2 , 3 ,4 , 6 ,10 }\n",
    "meu_conjunto.add(11)\n",
    "meu_conjunto"
   ]
  },
  {
   "cell_type": "code",
   "execution_count": 121,
   "metadata": {},
   "outputs": [
    {
     "name": "stdout",
     "output_type": "stream",
     "text": [
      "{1, 2, 3, 6, 10, 11}\n"
     ]
    }
   ],
   "source": [
    "## remocao de elementos\n",
    "\n",
    "meu_conjunto.remove(4)\n",
    "print(meu_conjunto)"
   ]
  },
  {
   "cell_type": "code",
   "execution_count": 122,
   "metadata": {},
   "outputs": [
    {
     "name": "stdout",
     "output_type": "stream",
     "text": [
      "{1, 2, 3, 4, 5}\n"
     ]
    }
   ],
   "source": [
    "## operacoes com conjuntos\n",
    "\n",
    "conj1 = {1, 2, 3 }\n",
    "conj2 = {3 , 4 , 5}\n",
    "\n",
    "uniao = conj1.union(conj2) ## Conj1 U Conj2\n",
    "print(uniao)"
   ]
  },
  {
   "cell_type": "code",
   "execution_count": 123,
   "metadata": {},
   "outputs": [
    {
     "name": "stdout",
     "output_type": "stream",
     "text": [
      "{3}\n"
     ]
    }
   ],
   "source": [
    "## interseccao\n",
    "interseccao = conj1.intersection(conj2)\n",
    "print(interseccao)"
   ]
  },
  {
   "cell_type": "markdown",
   "metadata": {},
   "source": [
    "# 1.7 Funções em python\n",
    "Há situações em que as BUILT-IN FUNCTIONS podem não ser suficientes para solucionar os problemas. Neste caso, surge a necessidade de criarmos nossas próprias funções, que podem ser utilizadas a qualquer momento em outra parte do código.\n",
    "\n",
    "`def` é a palavra chave para criar funções\n",
    "\n",
    "as funções seguem a estrutura;\n",
    "\n",
    "`def <nome>(<param_1>, <param_2>, ..., >param_n>):`\n",
    "\n",
    "    `<instruções>` \n"
   ]
  },
  {
   "cell_type": "code",
   "execution_count": 124,
   "metadata": {},
   "outputs": [],
   "source": [
    "# code"
   ]
  },
  {
   "cell_type": "markdown",
   "metadata": {},
   "source": [
    "### Type Hint em funções\n",
    "\n",
    "O Type Hint é uma sintaxe utilizada no Python para indicar o tipo de dado esperado de um parâmetro ou retorno de função, auxiliando na legibilidade e manutenção do código. Podemos dizer, em poucas palavras, que ela é a dica de tipagem dos dados."
   ]
  },
  {
   "cell_type": "code",
   "execution_count": 125,
   "metadata": {},
   "outputs": [],
   "source": [
    "# code\n"
   ]
  },
  {
   "cell_type": "markdown",
   "metadata": {},
   "source": [
    "## Docstring\n",
    "\n",
    "Por fim, temos o Docstring que é uma string literal usada para documentar módulo, função, classe ou método em Python. Ela é colocada como o primeiro item de definição e pode ser acessada usando a função help().\n",
    "\n",
    "O Docstring deve descrever propósito, parâmetros, tipo de retorno e exceções levantadas pela função. É uma boa prática de programação utilizar Docstrings em seu código para facilitar a leitura, manutenção e compartilhamento do código com outras pessoas desenvolvedoras."
   ]
  },
  {
   "cell_type": "code",
   "execution_count": 126,
   "metadata": {},
   "outputs": [],
   "source": [
    "## code"
   ]
  },
  {
   "cell_type": "markdown",
   "metadata": {},
   "source": [
    "## Função Lambda \n",
    "\n",
    "Uma função lambda, também chamada de função anônima, não precisa ser definida, ou seja, não possui um nome. Além disso, pode ser descrita uma única linha. Ela tem a seguinte estrutura:\n"
   ]
  },
  {
   "cell_type": "code",
   "execution_count": 127,
   "metadata": {},
   "outputs": [],
   "source": [
    "## code"
   ]
  },
  {
   "cell_type": "markdown",
   "metadata": {},
   "source": [
    "## Map \n",
    " utilizar o `map` para iterar sobre listas:"
   ]
  },
  {
   "cell_type": "code",
   "execution_count": 128,
   "metadata": {},
   "outputs": [],
   "source": [
    "#code"
   ]
  },
  {
   "cell_type": "markdown",
   "metadata": {},
   "source": [
    "## 1.8 Condicionais if, else e elif\n",
    "\n",
    "Em Python, as estruturas condicionais `if`, `else`, e `elif` (abreviação de \"else if\") são usadas para controlar o fluxo de execução do programa com base em condições lógicas. Aqui está um exemplo simples que ilustra o uso dessas estruturas:\n",
    "\n",
    "\n",
    "### Situação. \n",
    "\n",
    "Imagine que queremos saber conforme a média que receberemos de determinado estudante, se ele está em condição de aprovação ou reprovação. Vamos pensar um pouco sobre esse problema.\n",
    "\n",
    "Nós teremos uma média. Ela é um valor de 0.0 a 10.0. A partir disso, temos algumas condições:\n",
    "\n",
    "Aprovação - se a média estiver entre 6.0 e 10.0\n",
    "Reprovação - se a média estiver entre 0.0 e 6.0\n",
    "\n",
    "a estrutura das condicionais são\n",
    "\n",
    "\n",
    "```python\n",
    "SE condição:\n",
    " - instruções caso a condição seja **VERDADEIRA**\n",
    "\n",
    "SENÃO: \n",
    "\n",
    "- instruções caso a condição seja **FALSA**\n",
    "\n",
    "\n",
    "```"
   ]
  },
  {
   "cell_type": "markdown",
   "metadata": {},
   "source": [
    "### Operadores Relacionais:\n",
    "\n",
    "Os operadores relacionais são utilizados para comparar valores e retornam um resultado booleano (`True` ou `False`) com base na seguinte relação entre os operandos.\n",
    "\n",
    "- `<`: Menor que\n",
    "- `<=`: Menor ou igual a\n",
    "- `>`: Maior que\n",
    "- `>=`: Maior ou igual a\n",
    "- `==`: Igual a\n",
    "- `!=`: Diferente de\n",
    "\n"
   ]
  },
  {
   "cell_type": "code",
   "execution_count": 129,
   "metadata": {},
   "outputs": [],
   "source": [
    "## code function"
   ]
  },
  {
   "cell_type": "markdown",
   "metadata": {},
   "source": [
    "## and, or not\n",
    "- `and`: Retorna True se ambas as condições forem verdadeiras.\n",
    "- `or`: Retorna True se pelo menos uma das condições for verdadeira.\n",
    "- `not`: Inverte o valor da condição, de True para False e vice-versa."
   ]
  },
  {
   "cell_type": "markdown",
   "metadata": {},
   "source": [
    "\n",
    "\n",
    "## Tabela Verdade \n",
    "\n",
    "- Operador `and`: \n",
    "\n",
    "A tabela verdade do operador `and` nos mostra que a saída somente retorna Verdade (`True`) se ambos os operandos são Verdade. Caso contrário, retorna Falso (`False`), como mostrado na tabela abaixo:\n",
    "\n",
    "![Tabela](And_tabela.jpeg \"Tabela verdade operador and\")\n",
    "\n",
    "- Operador `or`\n",
    "\n",
    "A tabela verdade do operador `or` nos mostra que a saída somente retorna Falso (`False`) se ambos os operandos são Falsos, caso contrário, retorna Verdade (`True`). Ou seja, será retornado True se pelo menos um dos operandos for True, como mostrado abaixo:\n",
    "\n",
    "![Tabela2](Or.jpeg \"Tabela verdade operador or\")"
   ]
  },
  {
   "cell_type": "code",
   "execution_count": 130,
   "metadata": {},
   "outputs": [],
   "source": [
    "#codes"
   ]
  },
  {
   "cell_type": "markdown",
   "metadata": {},
   "source": [
    "## elif\n",
    "\n",
    "O `elif` é uma palavra-chave em Python que significa \"senão, se\" e pode ser considerado uma união do `else` com um `if`. Ela é usada em conjunto com a palavra-chave if para formar uma estrutura condicional encadeada.\n",
    "\n",
    "```python\n",
    "if condição1:\n",
    "    # faça A\n",
    "elif condição2:\n",
    "    # faça B\n",
    "elif condição3:\n",
    "    # faça C\n",
    "else:\n",
    "    # faça D\n",
    "\n",
    "```\n"
   ]
  },
  {
   "cell_type": "markdown",
   "metadata": {},
   "source": [
    "## 1.9 Loops / Laços \n",
    "### `for` ,` range`,` while`\n",
    "O for loop é utilizado para iterar sobre uma sequência (como lista, tupla, string) ou outros objetos iteráveis.\n"
   ]
  },
  {
   "cell_type": "markdown",
   "metadata": {},
   "source": [
    "### While\n",
    "\n",
    "O laço while é conhecido por repetir o mesmo bloco de código desde que uma determinada condição seja verdadeira.\n",
    "a sintaxe do `while` é muito simples;\n",
    "\n",
    "```python\n",
    "while condição:\n",
    "    # bloco de código\n",
    "```\n",
    "\n",
    "O `while + condição` significa que enquanto uma determinação condição for verdadeira, determinado bloco de código será repetido.\n",
    "Isso é muito útil para computar algoritmos e uma determinada lógica, por exemplo, ao utilizar um contador:\n"
   ]
  },
  {
   "cell_type": "code",
   "execution_count": 131,
   "metadata": {},
   "outputs": [],
   "source": [
    "# code"
   ]
  },
  {
   "cell_type": "markdown",
   "metadata": {},
   "source": [
    "### Loop `for`\n",
    "O for loop é utilizado para iterar sobre uma sequência (como lista, tupla, string) ou outros objetos iteráveis.\n",
    "\n",
    "\n",
    "Ou seja, ele repete a execução de um determinado bloco através de uma iteração de elementos contida num conjunto de elementos.\n",
    "\n",
    "\n",
    "Uma lista, por exemplo, cada index corresponde a um elemento, e a lista em si é um conjunto de elementos.\n",
    "\n",
    "\n",
    "Ao utilizar o `for`, nós podemos iterar sobre todos os elementos dessa lista um a um.\n",
    "\n",
    "A sintaxe funciona da seguinte forma: \n",
    "\n",
    "```python\n",
    "for elemento in conjunto:\n",
    "    # código a ser executado para cada elemento\n",
    "\n",
    "```\n",
    "\n",
    "O `in` é inserido para verificar se esse elemento está contido dentro de um conjunto. Por isso, especificamos o nome do conjunto logo após in.\n",
    "\n",
    "A lógica é que uma variável elemento de qualquer nome vai ser atribuída a cada um dos elementos contidos dentro de um conjunto."
   ]
  },
  {
   "cell_type": "code",
   "execution_count": 132,
   "metadata": {},
   "outputs": [],
   "source": [
    "## code"
   ]
  },
  {
   "cell_type": "markdown",
   "metadata": {},
   "source": []
  },
  {
   "cell_type": "markdown",
   "metadata": {},
   "source": [
    "Para utilizar `for` com um contador, precisamos de um conjunto de elementos que podem ser criados pela função `range()`.\n",
    "\n",
    "seguindo a estrutura> \n",
    "\n",
    "```python\n",
    "range(inicio, fim, passo)\n",
    "\n",
    "```"
   ]
  },
  {
   "cell_type": "code",
   "execution_count": 133,
   "metadata": {},
   "outputs": [],
   "source": [
    "## code"
   ]
  },
  {
   "cell_type": "markdown",
   "metadata": {},
   "source": [
    "## Exercícios \n",
    "\n",
    "### 1. Soma de Itens em Dicionário\n",
    " Dado um dicionário em python, faça um programa que retorne a soma de todos os itens do mesmo dicionário\n",
    "\n",
    "Exemplo:\n",
    "```python\n",
    "Input : {‘a’: 100, ‘b’:200, ‘c’:300}\n",
    "Output : 600\n",
    "\n",
    "Input : {‘x’: 25, ‘y’:18, ‘z’:45}\n",
    "Output : 88\n",
    "```\n",
    "\n",
    "### 2. Verificar Triângulo\n",
    "\n",
    "Escreva um programa que determine se três comprimentos podem ou não formar um triângulo. O programa recebe 3 parâmetros e retorna um resultado booleano (True ou False).\n",
    "\n",
    "### 3. Contar Vogais\n",
    "\n",
    "(MIT) Escreva um programa que conte o número de vogais numa string s composta unicamente de letras minúsculas. Por exemplo, se s = 'azcbobobegghakl', seu programa deve imprimir Número de vogais: 5.\n",
    "\n",
    "### 4. Combinar Dicionários\n",
    " Escreva um programa em Python para combinar dois dicionários adicionando valores para chaves comuns. \n",
    "\n",
    "```python\n",
    " d1 = {'a': 100, 'b': 200, 'c':300} \n",
    " d2 = {'a': 300, 'b': 200, 'd':400} \n",
    " Saída de exemplo: Counter({'a': 400, 'b': 400, 'd': 400, 'c': 300})\n",
    " ```\n",
    "\n",
    " ### 5. Celsius para Fahrenheit\n",
    "Construa uma função que converta graus Celsius para Farenheit\n",
    "\n",
    "### 6. Converter Temperaturas com Lambda e Map\n",
    "\n",
    " Utlizando a função `lambda` em python e usando `map`, escreva um código que converta uma lista de temperaturas em Celsius para Kelvin.\n",
    "\n",
    "### 7. Manipular String\n",
    " Escreva um programa que dada uma string, manipule-a para que comece com um caracter `upper` e alterne entre `upper` e `lower`\n",
    "exemplo: \n",
    "```python\n",
    "#exemplo\n",
    "input -> 'paralelogramo' str\n",
    "\n",
    "output-> 'PaRaLeLoGrAmO'\n",
    "\n",
    "```\n",
    "\n",
    "### 8. Calcular Salário Líquido\n",
    "\n",
    " Faça um Programa que pergunte quanto você ganha por hora e o número de horas trabalhadas no mês. Calcule e mostre o total do seu salário no referido mês, sabendo-se que são descontados 11% para o Imposto de Renda, 8% para o INSS e 5% para o sindicato, faça um programa que nos dê:\n",
    "\n",
    "    - salário bruto.\n",
    "    - quanto pagou ao INSS.\n",
    "    - quanto pagou ao sindicato.\n",
    "    - o salário líquido.\n",
    "    - calcule os descontos e o salário líquido\n",
    "\n",
    "\n",
    "### 9. Fórmula quadrática\n",
    "Faça um programa que calcule as raízes de uma equação do segundo grau, na forma ax2 + bx + c. O programa deverá pedir os valores de a, b e c e fazer as consistências, informando ao usuário nas seguintes situações:\n",
    "\n",
    "- Se o usuário informar o valor de A igual a zero, a equação não é do segundo grau e o programa não deve fazer pedir os demais valores, sendo encerrado;\n",
    "    - Se o delta calculado for negativo, a equação não possui raizes reais. Informe ao usuário e encerre o programa;\n",
    "   - Se o delta calculado for igual a zero a equação possui apenas uma raiz real; informe-a ao usuário;\n",
    "   - Se o delta for positivo, a equação possui duas raiz reais; informe-as ao usuário; \n",
    "\n",
    "### 10. Anos bissextos\n",
    "\n",
    "Faça um Programa que peça um número correspondente a um determinado ano e em seguida informe se este ano é ou não bissexto. \n",
    "Os anos bissextos seguem algumas regras:\n",
    "1. qualquer ano que seja divisível por 400 é um ano bissexto;\n",
    "2. dos anos restantes, qualquer ano que seja divisível por 100 não é um ano bissexto;\n",
    "3. dos anos restantes, qualquer ano que seja divisível por 4 é um ano bissexto;\n",
    "4. todos os outros anos não são anos bissextos.\n",
    "\n",
    "### 11. Conjuntos/ sets\n",
    "\n",
    "Dado dois conjuntos\n",
    "\n",
    "```python\n",
    "A = {1, 2, 3, 4, 5}\n",
    "B = {4, 5, 6, 7, 8}\n",
    "\n",
    "```\n",
    "Escreva um programa em Python que realize as seguintes operações:\n",
    "\n",
    "a. Calcule a união dos conjuntos A e B e imprima o resultado.\n",
    "\n",
    "b. Calcule a interseção dos conjuntos A e B e imprima o resultado.\n",
    "\n",
    "c. Calcule a diferença entre os conjuntos A e B (A - B) e imprima o resultado.\n",
    "\n",
    "d. Verifique se o conjunto A é subconjunto de B e imprima o resultado.\n",
    "\n",
    "e. Adicione o elemento 9 ao conjunto A.\n",
    "\n",
    "f. Remova o elemento 4 do conjunto B.\n",
    "\n",
    "g. Calcule a diferença simétrica entre os conjuntos A e B e imprima o resultado.\n",
    "\n",
    "### 12. Conversão de horário\n",
    "Faça um programa que converta da notação de 24 horas para a notação de 12 horas. Por exemplo, o programa deve converter 14:25 em 2:25 P.M. A entrada é dada em dois inteiros\n",
    "\n",
    "### 13. Reverso do numero\n",
    "\n",
    "Faça uma função que retorne o reverso de um número inteiro informado. Por exemplo: 127 -> 721. "
   ]
  },
  {
   "cell_type": "markdown",
   "metadata": {},
   "source": []
  }
 ],
 "metadata": {
  "kernelspec": {
   "display_name": "base",
   "language": "python",
   "name": "python3"
  },
  "language_info": {
   "codemirror_mode": {
    "name": "ipython",
    "version": 3
   },
   "file_extension": ".py",
   "mimetype": "text/x-python",
   "name": "python",
   "nbconvert_exporter": "python",
   "pygments_lexer": "ipython3",
   "version": "3.11.5"
  }
 },
 "nbformat": 4,
 "nbformat_minor": 2
}
