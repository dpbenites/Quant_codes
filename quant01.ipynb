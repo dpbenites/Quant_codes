{
 "cells": [
  {
   "cell_type": "markdown",
   "metadata": {},
   "source": [
    "# Encontro 01\n",
    "\n",
    "## Bem vindos \n",
    "\n",
    "### Vamos dar uma olhada, nesta aula, noções básicas de python. Sintaxe, variáveis, objetos...\n",
    "\n",
    "## 1.1 Operações matemáticas\n"
   ]
  },
  {
   "cell_type": "code",
   "execution_count": 1,
   "metadata": {},
   "outputs": [
    {
     "data": {
      "text/plain": [
       "3"
      ]
     },
     "execution_count": 1,
     "metadata": {},
     "output_type": "execute_result"
    }
   ],
   "source": [
    "### code\n",
    "## adicao\n",
    "1 + 2"
   ]
  },
  {
   "cell_type": "code",
   "execution_count": 2,
   "metadata": {},
   "outputs": [
    {
     "data": {
      "text/plain": [
       "20"
      ]
     },
     "execution_count": 2,
     "metadata": {},
     "output_type": "execute_result"
    }
   ],
   "source": [
    "## subtracao\n",
    "21 -1 "
   ]
  },
  {
   "cell_type": "code",
   "execution_count": 3,
   "metadata": {},
   "outputs": [
    {
     "data": {
      "text/plain": [
       "24"
      ]
     },
     "execution_count": 3,
     "metadata": {},
     "output_type": "execute_result"
    }
   ],
   "source": [
    "## multiplacao\n",
    "\n",
    "4 * 6\n"
   ]
  },
  {
   "cell_type": "code",
   "execution_count": 4,
   "metadata": {},
   "outputs": [
    {
     "data": {
      "text/plain": [
       "4.0"
      ]
     },
     "execution_count": 4,
     "metadata": {},
     "output_type": "execute_result"
    }
   ],
   "source": [
    "## divisao\n",
    "\n",
    "24/6"
   ]
  },
  {
   "cell_type": "code",
   "execution_count": 5,
   "metadata": {},
   "outputs": [
    {
     "data": {
      "text/plain": [
       "8"
      ]
     },
     "execution_count": 5,
     "metadata": {},
     "output_type": "execute_result"
    }
   ],
   "source": [
    "## exponencial\n",
    "\n",
    "2 ** 3"
   ]
  },
  {
   "cell_type": "code",
   "execution_count": 6,
   "metadata": {},
   "outputs": [
    {
     "data": {
      "text/plain": [
       "100000.0"
      ]
     },
     "execution_count": 6,
     "metadata": {},
     "output_type": "execute_result"
    }
   ],
   "source": [
    "## notacao : 10^5\n",
    "1e5"
   ]
  },
  {
   "cell_type": "code",
   "execution_count": 7,
   "metadata": {},
   "outputs": [
    {
     "data": {
      "text/plain": [
       "2"
      ]
     },
     "execution_count": 7,
     "metadata": {},
     "output_type": "execute_result"
    }
   ],
   "source": [
    "## divisao inteira \n",
    "\n",
    "9//4"
   ]
  },
  {
   "cell_type": "code",
   "execution_count": 8,
   "metadata": {},
   "outputs": [
    {
     "data": {
      "text/plain": [
       "1"
      ]
     },
     "execution_count": 8,
     "metadata": {},
     "output_type": "execute_result"
    }
   ],
   "source": [
    "## resto de divisao\n",
    "\n",
    "9%4"
   ]
  },
  {
   "cell_type": "markdown",
   "metadata": {},
   "source": [
    "## 1.2 Atribuição de variáveis\n",
    "Em qualquer linguagem de programação, nós podemos criar objetos e variáveis que contenha e represente uma informação.\n",
    "Os objetos podem ser de vários tipos, portanto, tendo propriedades diferentes e representando coisas distintas.\n",
    "\n",
    "DEf: Objetos são dados que o seu programa python manipula para realizar as tarefas necessárias para atingir o seu objetivo\n",
    "\n",
    "DEf: Ao criar um objeto de qualquer tipo, é preciso guardá-lo em algum lugar na memória (RAM) do computador, para que o código consiga acessá-lo sempre que necessário. A esse processo dá-se o nome de atribuição de um dado a uma variável. Por exemplo,\n",
    "\n",
    "\n"
   ]
  },
  {
   "cell_type": "code",
   "execution_count": 10,
   "metadata": {},
   "outputs": [
    {
     "name": "stdout",
     "output_type": "stream",
     "text": [
      "2.5\n"
     ]
    }
   ],
   "source": [
    "## code\n",
    "\n",
    "danilo = 5/2\n",
    "print(danilo)\n"
   ]
  },
  {
   "cell_type": "code",
   "execution_count": 11,
   "metadata": {},
   "outputs": [
    {
     "name": "stdout",
     "output_type": "stream",
     "text": [
      "31\n"
     ]
    }
   ],
   "source": [
    "## atribuicao com expressoes\n",
    "\n",
    "a = 5\n",
    "b = 7\n",
    "\n",
    "comb = 2*a + 3*b\n",
    "\n",
    "print(comb)"
   ]
  },
  {
   "cell_type": "code",
   "execution_count": 14,
   "metadata": {},
   "outputs": [
    {
     "name": "stdout",
     "output_type": "stream",
     "text": [
      "20\n"
     ]
    }
   ],
   "source": [
    "## operacoes com atualizacao de valor\n",
    "\n",
    "valor_inicial = 15\n",
    "valor_inicial += 5 ## equivale valor_inicial = valor_inicial + 5\n",
    "print(valor_inicial)"
   ]
  },
  {
   "cell_type": "code",
   "execution_count": 17,
   "metadata": {},
   "outputs": [
    {
     "name": "stdout",
     "output_type": "stream",
     "text": [
      "24.0\n",
      "<class 'float'>\n"
     ]
    }
   ],
   "source": [
    "variavel = 6*4\n",
    "\n",
    "variavel = float(variavel)\n",
    "\n",
    "print(variavel)\n",
    "print(type(variavel))"
   ]
  },
  {
   "cell_type": "markdown",
   "metadata": {},
   "source": [
    "## 1.3 Strings, indexação e fatiamento\n",
    "\n",
    "Strings em Python são sequências de caracteres e são representadas por objetos do tipo str. Elas podem ser definidas usando aspas simples ou duplas. Aqui estão alguns exemplos básicos de strings:"
   ]
  },
  {
   "cell_type": "code",
   "execution_count": 18,
   "metadata": {},
   "outputs": [
    {
     "name": "stdout",
     "output_type": "stream",
     "text": [
      "Hello World\n"
     ]
    }
   ],
   "source": [
    "## code\n",
    "\n",
    "mensagem = \"Hello World\"\n",
    "\n",
    "print(mensagem)"
   ]
  },
  {
   "cell_type": "markdown",
   "metadata": {},
   "source": [
    "## Fatiamento"
   ]
  },
  {
   "cell_type": "code",
   "execution_count": 19,
   "metadata": {},
   "outputs": [
    {
     "name": "stdout",
     "output_type": "stream",
     "text": [
      "Python\n"
     ]
    }
   ],
   "source": [
    "## fatiamento de strings\n",
    "        #0123456...  \n",
    "texto = \"Python é uma linguagem de programação\"\n",
    "\n",
    "substring1 = texto[0:6]\n",
    "print(substring1)\n"
   ]
  },
  {
   "cell_type": "markdown",
   "metadata": {},
   "source": [
    "## Alguns métodos\n",
    "\n",
    "`.upper()` , `.lower()` , `.split()` "
   ]
  },
  {
   "cell_type": "code",
   "execution_count": 21,
   "metadata": {},
   "outputs": [
    {
     "name": "stdout",
     "output_type": "stream",
     "text": [
      "OLA MUNDO\n",
      "ola mundo\n"
     ]
    }
   ],
   "source": [
    "## code\n",
    "mensagem = 'Ola mundo'\n",
    "mensagem = mensagem.upper()\n",
    "print(mensagem)\n",
    "\n",
    "\n",
    "mensagem2 = mensagem.lower()\n",
    "print(mensagem2)\n"
   ]
  },
  {
   "cell_type": "code",
   "execution_count": 22,
   "metadata": {},
   "outputs": [
    {
     "name": "stdout",
     "output_type": "stream",
     "text": [
      "['Ele', 'é', 'inteligente']\n"
     ]
    }
   ],
   "source": [
    "frase = 'Ele é inteligente'\n",
    "palavras = frase.split()\n",
    "print(palavras)"
   ]
  },
  {
   "cell_type": "markdown",
   "metadata": {},
   "source": [
    "## 1.4 Listas \n",
    "\n",
    "Em Python, listas são coleções ordenadas e mutáveis de itens. Elas são representadas por colchetes [] e podem conter elementos de diferentes tipos. Vamos abordar diferentes aspectos das listas, incluindo fatiamento, list comprehension e alguns métodos úteis."
   ]
  },
  {
   "cell_type": "code",
   "execution_count": 24,
   "metadata": {},
   "outputs": [
    {
     "name": "stdout",
     "output_type": "stream",
     "text": [
      "4\n"
     ]
    }
   ],
   "source": [
    "## index        #0   1   2   3   4 \n",
    "lista_numeros = [1, 4 , 6 , 8 , 9]\n",
    "\n",
    "# acesso os elementos por indexacao\n",
    "\n",
    "segundo_elemento = lista_numeros[1]\n",
    "print(segundo_elemento)\n"
   ]
  },
  {
   "cell_type": "code",
   "execution_count": 31,
   "metadata": {},
   "outputs": [
    {
     "name": "stdout",
     "output_type": "stream",
     "text": [
      "[1, 10, 6, 8, 9]\n"
     ]
    }
   ],
   "source": [
    "lista_numeros[1] = 10\n",
    "print(lista_numeros)"
   ]
  },
  {
   "cell_type": "code",
   "execution_count": 25,
   "metadata": {},
   "outputs": [
    {
     "name": "stdout",
     "output_type": "stream",
     "text": [
      "[1, 4, 6]\n"
     ]
    }
   ],
   "source": [
    "## Fatiamento de listas\n",
    "\n",
    "sublista = lista_numeros[0:3]\n",
    "print(sublista)"
   ]
  },
  {
   "cell_type": "markdown",
   "metadata": {},
   "source": [
    "## list comprehension é uma maneira mais curta e prática de criar listas\n"
   ]
  },
  {
   "cell_type": "code",
   "execution_count": 26,
   "metadata": {},
   "outputs": [
    {
     "name": "stdout",
     "output_type": "stream",
     "text": [
      "[1, 4, 9, 16, 25]\n"
     ]
    }
   ],
   "source": [
    "#code\n",
    "\n",
    "quadrados = [x**2 for x in range(1,6)]\n",
    "print(quadrados)"
   ]
  },
  {
   "cell_type": "markdown",
   "metadata": {},
   "source": [
    "## Métodos\n"
   ]
  },
  {
   "cell_type": "code",
   "execution_count": 27,
   "metadata": {},
   "outputs": [
    {
     "name": "stdout",
     "output_type": "stream",
     "text": [
      "['Galo', 'Cachorro', 'Vaca', 'Peixe']\n"
     ]
    }
   ],
   "source": [
    "## code\n",
    "\n",
    "'''\n",
    "metodo append()  -->  permite com que se adicione elementos numa lista existente\n",
    "'''\n",
    "\n",
    "animais = ['Galo', 'Cachorro', 'Vaca']\n",
    "animais.append('Peixe')\n",
    "print(animais)"
   ]
  },
  {
   "cell_type": "markdown",
   "metadata": {},
   "source": [
    "## 1.4 Dicionários\n",
    "\n",
    "Em Python, um dicionário é uma estrutura de dados que permite armazenar pares de chave-valor, onde cada chave é única. Essa estrutura é conhecida como um mapa, associando valores a chaves para facilitar a recuperação eficiente dos dados. \n",
    "\n",
    "Os dicionários são extremamente úteis quando se trabalha com dados que têm uma relação chave-valor. Eles oferecem uma maneira eficiente de recuperar e manipular informações. \n",
    "\n",
    "Dicionários são representados por chaves {} e têm a seguinte sintaxe:"
   ]
  },
  {
   "cell_type": "code",
   "execution_count": 28,
   "metadata": {},
   "outputs": [],
   "source": [
    "# code\n",
    "## Chave é unica\n",
    "valor=1\n",
    "meu_dicionario= {'chave':valor}\n",
    "\n",
    "meu_dicionario = {'nome':'Joao', 'Idade':25, 'cidade': 'Sao Paulo'}\n"
   ]
  },
  {
   "cell_type": "code",
   "execution_count": 29,
   "metadata": {},
   "outputs": [
    {
     "name": "stdout",
     "output_type": "stream",
     "text": [
      "Joao\n"
     ]
    }
   ],
   "source": [
    "## Acessar os valores do dicionario\n",
    "\n",
    "nome = meu_dicionario['nome']\n",
    "print(nome)\n",
    "\n",
    "\n"
   ]
  },
  {
   "cell_type": "code",
   "execution_count": 30,
   "metadata": {},
   "outputs": [
    {
     "data": {
      "text/html": [
       "<div>\n",
       "<style scoped>\n",
       "    .dataframe tbody tr th:only-of-type {\n",
       "        vertical-align: middle;\n",
       "    }\n",
       "\n",
       "    .dataframe tbody tr th {\n",
       "        vertical-align: top;\n",
       "    }\n",
       "\n",
       "    .dataframe thead th {\n",
       "        text-align: right;\n",
       "    }\n",
       "</style>\n",
       "<table border=\"1\" class=\"dataframe\">\n",
       "  <thead>\n",
       "    <tr style=\"text-align: right;\">\n",
       "      <th></th>\n",
       "      <th>Acoes</th>\n",
       "      <th>Proporcao</th>\n",
       "      <th>Risco</th>\n",
       "    </tr>\n",
       "  </thead>\n",
       "  <tbody>\n",
       "    <tr>\n",
       "      <th>0</th>\n",
       "      <td>A</td>\n",
       "      <td>0.4</td>\n",
       "      <td>0.01</td>\n",
       "    </tr>\n",
       "    <tr>\n",
       "      <th>1</th>\n",
       "      <td>B</td>\n",
       "      <td>0.6</td>\n",
       "      <td>0.05</td>\n",
       "    </tr>\n",
       "  </tbody>\n",
       "</table>\n",
       "</div>"
      ],
      "text/plain": [
       "  Acoes  Proporcao  Risco\n",
       "0     A        0.4   0.01\n",
       "1     B        0.6   0.05"
      ]
     },
     "execution_count": 30,
     "metadata": {},
     "output_type": "execute_result"
    }
   ],
   "source": [
    "## Carteira de acoes\n",
    "\n",
    "carteira = {'Acoes': ['A','B'] , 'Proporcao': [0.4, 0.6], 'Risco': [0.01,0.05] }\n",
    "\n",
    "import pandas as pd\n",
    "\n",
    "df_carteira = pd.DataFrame(carteira)\n",
    "\n",
    "## exibir a tabela\n",
    "\n",
    "df_carteira"
   ]
  },
  {
   "cell_type": "markdown",
   "metadata": {},
   "source": [
    "### Acessando Valores em um Dicionário:\n",
    "Os valores em um dicionário são acessados usando as chaves correspondentes:"
   ]
  },
  {
   "cell_type": "code",
   "execution_count": null,
   "metadata": {},
   "outputs": [],
   "source": [
    "#code"
   ]
  },
  {
   "cell_type": "markdown",
   "metadata": {},
   "source": [
    "## 1.5 Tuplas \n",
    "\n",
    "Em Python, uma tupla é uma estrutura de dados semelhante a uma lista, mas com a principal diferença sendo que as tuplas são imutáveis. Isso significa que, uma vez que uma tupla é criada, você não pode modificar seu conteúdo - adicionar, remover ou alterar elementos. As tuplas são representadas por parênteses ()."
   ]
  },
  {
   "cell_type": "code",
   "execution_count": 34,
   "metadata": {},
   "outputs": [],
   "source": [
    "#code\n",
    "\n",
    "tuplas = (1, 4 , 5 , 'STring', 6, 5.0)\n"
   ]
  },
  {
   "cell_type": "code",
   "execution_count": 36,
   "metadata": {},
   "outputs": [
    {
     "data": {
      "text/plain": [
       "(1, 3, 6, 1, 5, 7)"
      ]
     },
     "execution_count": 36,
     "metadata": {},
     "output_type": "execute_result"
    }
   ],
   "source": [
    "t1 = (1, 3 , 6)\n",
    "t2 = (1, 5 , 7)\n",
    "\n",
    "t3 = t1 + t2\n",
    "\n",
    "t3"
   ]
  },
  {
   "cell_type": "markdown",
   "metadata": {},
   "source": [
    "### Desmembramento de Tuplas (Tupla Unpacking):\n",
    "O desmembramento de tuplas, também conhecido como tupla unpacking, permite atribuir os elementos de uma tupla a variáveis individuais. Isso é útil quando você deseja acessar elementos específicos de uma tupla."
   ]
  },
  {
   "cell_type": "code",
   "execution_count": 37,
   "metadata": {},
   "outputs": [
    {
     "name": "stdout",
     "output_type": "stream",
     "text": [
      "4\n"
     ]
    }
   ],
   "source": [
    "## code\n",
    "\n",
    "a , b , c , d = (1, 2 , 3 ,4)\n",
    "\n",
    "print(d)"
   ]
  },
  {
   "cell_type": "markdown",
   "metadata": {},
   "source": [
    "## 1.6 Sets - Conjuntos\n",
    "\n",
    "Em Python, um conjunto (`set`) é uma coleção não ordenada de elementos únicos. Os conjuntos são representados por chaves {} e são úteis quando a ordem dos elementos não importa e a exclusividade dos elementos é importante. Aqui estão algumas operações e manipulações comuns em conjuntos:"
   ]
  },
  {
   "cell_type": "code",
   "execution_count": 38,
   "metadata": {},
   "outputs": [
    {
     "data": {
      "text/plain": [
       "{1, 2, 3, 4, 6, 10, 11}"
      ]
     },
     "execution_count": 38,
     "metadata": {},
     "output_type": "execute_result"
    }
   ],
   "source": [
    "## code\n",
    "\n",
    "##conjunto / set\n",
    "\n",
    "meu_conjunto = { 1, 2 , 3 ,4 , 6 ,10 }\n",
    "meu_conjunto.add(11)\n",
    "meu_conjunto"
   ]
  },
  {
   "cell_type": "code",
   "execution_count": 39,
   "metadata": {},
   "outputs": [
    {
     "name": "stdout",
     "output_type": "stream",
     "text": [
      "{1, 2, 3, 6, 10, 11}\n"
     ]
    }
   ],
   "source": [
    "## remocao de elementos\n",
    "\n",
    "meu_conjunto.remove(4)\n",
    "print(meu_conjunto)"
   ]
  },
  {
   "cell_type": "code",
   "execution_count": 40,
   "metadata": {},
   "outputs": [
    {
     "name": "stdout",
     "output_type": "stream",
     "text": [
      "{1, 2, 3, 4, 5}\n"
     ]
    }
   ],
   "source": [
    "## operacoes com conjuntos\n",
    "\n",
    "conj1 = {1, 2, 3 }\n",
    "conj2 = {3 , 4 , 5}\n",
    "\n",
    "uniao = conj1.union(conj2) ## Conj1 U Conj2\n",
    "print(uniao)"
   ]
  },
  {
   "cell_type": "code",
   "execution_count": 41,
   "metadata": {},
   "outputs": [
    {
     "name": "stdout",
     "output_type": "stream",
     "text": [
      "{3}\n"
     ]
    }
   ],
   "source": [
    "## interseccao\n",
    "interseccao = conj1.intersection(conj2)\n",
    "print(interseccao)"
   ]
  },
  {
   "cell_type": "markdown",
   "metadata": {},
   "source": [
    "# 1.7 Funções em python\n"
   ]
  },
  {
   "cell_type": "code",
   "execution_count": null,
   "metadata": {},
   "outputs": [],
   "source": [
    "# code"
   ]
  },
  {
   "cell_type": "markdown",
   "metadata": {},
   "source": [
    "## 1.8 Condicionais if, else e elif\n",
    "\n",
    "Em Python, as estruturas condicionais `if`, `else`, e `elif` (abreviação de \"else if\") são usadas para controlar o fluxo de execução do programa com base em condições lógicas. Aqui está um exemplo simples que ilustra o uso dessas estruturas:\n"
   ]
  },
  {
   "cell_type": "code",
   "execution_count": null,
   "metadata": {},
   "outputs": [],
   "source": [
    "## code"
   ]
  },
  {
   "cell_type": "markdown",
   "metadata": {},
   "source": [
    "### Operadores Relacionais:\n",
    "\n",
    "Os operadores relacionais são utilizados para comparar valores e retornam um resultado booleano (`True` ou `False`) com base na relação entre os operandos.\n",
    "\n",
    "- `<`: Menor que\n",
    "- `<=`: Menor ou igual a\n",
    "- `>`: Maior que\n",
    "- `>=`: Maior ou igual a\n",
    "- `==`: Igual a\n",
    "- `!=`: Diferente de\n",
    "\n"
   ]
  },
  {
   "cell_type": "markdown",
   "metadata": {},
   "source": [
    "## and, or not\n",
    "- `and`: Retorna True se ambas as condições forem verdadeiras.\n",
    "- `or`: Retorna True se pelo menos uma das condições for verdadeira.\n",
    "- `not`: Inverte o valor da condição, de True para False e vice-versa."
   ]
  },
  {
   "cell_type": "code",
   "execution_count": 6,
   "metadata": {},
   "outputs": [],
   "source": [
    "#codes"
   ]
  },
  {
   "cell_type": "markdown",
   "metadata": {},
   "source": [
    "## 1.9 Loops / Laços \n",
    "### `for` ,` range`,` while`\n",
    "O for loop é utilizado para iterar sobre uma sequência (como lista, tupla, string) ou outros objetos iteráveis.\n"
   ]
  },
  {
   "cell_type": "code",
   "execution_count": null,
   "metadata": {},
   "outputs": [],
   "source": [
    "# code"
   ]
  },
  {
   "cell_type": "code",
   "execution_count": null,
   "metadata": {},
   "outputs": [],
   "source": []
  },
  {
   "cell_type": "markdown",
   "metadata": {},
   "source": [
    "## Exercícios\n",
    "\n",
    "- 1. Dado um dicionário em python, faça um programa que retorne a soma de todos os itens do mesmo dicionário\n",
    "\n",
    "Exemplo:\n",
    "\n",
    "Input : {‘a’: 100, ‘b’:200, ‘c’:300}\n",
    "Output : 600\n",
    "\n",
    "Input : {‘x’: 25, ‘y’:18, ‘z’:45}\n",
    "Output : 88\n",
    "\n",
    "\n",
    "- 2. Escreva um programa que determine se três comprimentos podem ou não formar um triângulo. O programa recebe 3 parâmetros e retorna um resultado booleano (True ou False).\n",
    "\n",
    "- 3. (MIT) Escreva um programa que conte o número de vogais numa string s composta unicamente de letras minúsculas. Por exemplo, se s = 'azcbobobegghakl', seu programa deve imprimir Número de vogais: 5.\n",
    "\n",
    "- 4. Escreva um programa em Python para combinar dois dicionários adicionando valores para chaves comuns. d1 = {'a': 100, 'b': 200, 'c':300} d2 = {'a': 300, 'b': 200, 'd':400} Saída de exemplo: Counter({'a': 400, 'b': 400, 'd': 400, 'c': 300})"
   ]
  },
  {
   "cell_type": "markdown",
   "metadata": {},
   "source": []
  }
 ],
 "metadata": {
  "kernelspec": {
   "display_name": "base",
   "language": "python",
   "name": "python3"
  },
  "language_info": {
   "codemirror_mode": {
    "name": "ipython",
    "version": 3
   },
   "file_extension": ".py",
   "mimetype": "text/x-python",
   "name": "python",
   "nbconvert_exporter": "python",
   "pygments_lexer": "ipython3",
   "version": "3.11.5"
  }
 },
 "nbformat": 4,
 "nbformat_minor": 2
}
